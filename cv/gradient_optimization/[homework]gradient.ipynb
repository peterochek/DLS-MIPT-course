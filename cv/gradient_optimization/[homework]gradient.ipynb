{
 "cells": [
  {
   "cell_type": "code",
   "execution_count": null,
   "metadata": {
    "id": "MIzAFQsnvod2"
   },
   "outputs": [],
   "source": [
    "from copy import deepcopy\n",
    "\n",
    "import numpy as np\n",
    "import matplotlib.pyplot as plt"
   ]
  },
  {
   "cell_type": "code",
   "execution_count": null,
   "metadata": {
    "collapsed": false,
    "pycharm": {
     "name": "#%%\n"
    }
   },
   "outputs": [],
   "source": [
    "class LoggingCallback:\n",
    "    \"\"\"\n",
    "    Класс для логирования шагов градиентного спуска.\n",
    "    Сохраняет точку (x, f(x)) на каждом шаге.\n",
    "    Пример использования в коде: callback(x, f(x))\n",
    "    \"\"\"\n",
    "\n",
    "    def __init__(self):\n",
    "        self.x_steps = []\n",
    "        self.y_steps = []\n",
    "\n",
    "    def __call__(self, x, y):\n",
    "        self.x_steps.append(x)\n",
    "        self.y_steps.append(y)"
   ]
  },
  {
   "cell_type": "code",
   "execution_count": null,
   "metadata": {
    "id": "egm2nGHCvoe1"
   },
   "outputs": [],
   "source": [
    "def numerical_derivative_2d(func, epsilon):\n",
    "    \"\"\"\n",
    "    Функция для приближённого вычисления градиента функции двух переменных. \n",
    "    :param func: np.array[2] -> float — произвольная дифференцируемая функция\n",
    "    :param epsilon: float — максимальная величина приращения по осям\n",
    "    :return: другая функция, которая приближённо вычисляет градиент в точке\n",
    "    \"\"\"\n",
    "\n",
    "    def grad_func(x):\n",
    "        \"\"\"\n",
    "        :param x: np.array[2] — точка, в которой нужно вычислить градиент\n",
    "        :return: np.array[2] — приближённое значение градиента в этой точке\n",
    "        \"\"\"\n",
    "        x, y = x[0], x[1]\n",
    "\n",
    "        gradx = (func(np.array([x + epsilon, y])) - func(np.array([x, y]))) / epsilon\n",
    "        grady = (func(np.array([x, y + epsilon])) - func(np.array([x, y]))) / epsilon\n",
    "\n",
    "        return np.array([gradx, grady])\n",
    "\n",
    "    return grad_func\n",
    "\n",
    "\n",
    "def grad_descent_2d(func, low, high, start=None, callback=None):\n",
    "    \"\"\" \n",
    "    Реализация градиентного спуска для функций двух переменных \n",
    "\n",
    "    Обратите внимание, что здесь градиент функции не дан.\n",
    "    Его нужно вычислять приближённо.\n",
    "\n",
    "    :param func: np.ndarray -> float — функция \n",
    "    :param low: левая граница интервала по каждой из осей\n",
    "    :param high: правая граница интервала по каждой из осей\n",
    "    \"\"\"\n",
    "    eps = 1e-10\n",
    "    df = numerical_derivative_2d(func, eps)\n",
    "\n",
    "    start = start\n",
    "    lr = 0.5\n",
    "\n",
    "    for l in range(1, 10000):\n",
    "        start -= lr * df(start)[1]\n",
    "\n",
    "    return start"
   ]
  },
  {
   "cell_type": "code",
   "execution_count": null,
   "metadata": {
    "id": "ARnTlYWcLGo0"
   },
   "outputs": [],
   "source": [
    "def plot_convergence_2d(func, steps, ax, xlim, ylim, cmap=\"viridis\", title=\"\"):\n",
    "    \"\"\"\n",
    "    Функция отрисовки шагов градиентного спуска. \n",
    "    Не меняйте её код без необходимости! \n",
    "    :param func: функция, которая минимизируется градиентным спуском\n",
    "    :param steps: np.array[N x 2] — шаги алгоритма\n",
    "    :param ax: холст для отрисовки графика\n",
    "    :param xlim: tuple(float), 2 — диапазон по первой оси\n",
    "    :param ylim: tuple(float), 2 — диапазон по второй оси\n",
    "    :param cmap: str — название палитры\n",
    "    :param title: str — заголовок графика\n",
    "    \"\"\"\n",
    "\n",
    "    ax.set_title(title, fontsize=20, fontweight=\"bold\")\n",
    "    # Отрисовка значений функции на фоне\n",
    "    xrange = np.linspace(*xlim, 100)\n",
    "    yrange = np.linspace(*ylim, 100)\n",
    "    grid = np.meshgrid(xrange, yrange)\n",
    "    X, Y = grid\n",
    "    fvalues = func(\n",
    "        np.dstack(grid).reshape(-1, 2)\n",
    "    ).reshape((xrange.size, yrange.size))\n",
    "    ax.pcolormesh(xrange, yrange, fvalues, cmap=cmap, alpha=0.8)\n",
    "    CS = ax.contour(xrange, yrange, fvalues)\n",
    "    ax.clabel(CS, CS.levels, inline=True)\n",
    "    # Отрисовка шагов алгоритма в виде стрелочек\n",
    "    arrow_kwargs = dict(linestyle=\"--\", color=\"black\", alpha=0.8)\n",
    "    for i, _ in enumerate(steps):\n",
    "        if i + 1 < len(steps):\n",
    "            ax.arrow(\n",
    "                *steps[i],\n",
    "                *(steps[i + 1] - steps[i]),\n",
    "                **arrow_kwargs\n",
    "            )\n",
    "    # Отрисовка шагов алгоритма в виде точек\n",
    "    n = len(steps)\n",
    "    color_list = [(i / n, 0, 0, 1 - i / n) for i in range(n)]\n",
    "    ax.scatter(steps[:, 0], steps[:, 1], c=color_list, zorder=10)\n",
    "    ax.scatter(steps[-1, 0], steps[-1, 1],\n",
    "               color=\"red\", label=f\"estimate = {np.round(steps[-1], 2)}\")\n",
    "    # Финальное оформление графиков\n",
    "    ax.set_xlim(xlim)\n",
    "    ax.set_ylim(ylim)\n",
    "    ax.set_ylabel(\"$y$\")\n",
    "    ax.set_xlabel(\"$x$\")\n",
    "    ax.legend(fontsize=16)"
   ]
  },
  {
   "cell_type": "code",
   "execution_count": null,
   "metadata": {
    "id": "UFgjqiYZvoe5"
   },
   "outputs": [],
   "source": [
    "def test_convergence_2d(grad_descent_2d, test_cases, tol, axes=None):\n",
    "    \"\"\"\n",
    "    Функция для проверки корректности вашего решения в двумерном случае.\n",
    "    Она же используется в тестах на Stepik, так что не меняйте её код!\n",
    "    :param grad_descent_2d: ваша реализация градиентного спуска\n",
    "    :param test_cases: dict(dict), тесты в формате dict с такими ключами:\n",
    "        - \"func\" — функция \n",
    "        - \"deriv\" — её производная \n",
    "        - \"low\", \"high\" — диапазон для выбора начальной точки \n",
    "        - \"answer\" — ответ \n",
    "    При желании вы можете придумать и свои тесты.\n",
    "    :param tol: предельное допустимое отклонение найденного ответа от истинного\n",
    "    :param axes: матрица холстов для отрисовки, по ячейке на тест\n",
    "    :return: флаг, корректно ли пройдены тесты, и дебажный вывод в случае неудачи\n",
    "    \"\"\"\n",
    "    right_flag = True\n",
    "    debug_log = []\n",
    "    for i, key in enumerate(test_cases.keys()):\n",
    "        # Формируем входные данные и ответ для алгоритма.\n",
    "        answer = test_cases[key][\"answer\"]\n",
    "        test_input = deepcopy(test_cases[key])\n",
    "        del test_input[\"answer\"]\n",
    "        # Запускаем сам алгоритм.\n",
    "        callback = LoggingCallback()  # Не забываем про логирование\n",
    "        res_point = grad_descent_2d(**test_input, callback=callback)\n",
    "        # Отрисовываем результаты.\n",
    "        if axes is not None:\n",
    "            ax = axes[np.unravel_index(i, shape=axes.shape)]\n",
    "            plot_convergence_2d(\n",
    "                np.vectorize(test_input[\"func\"], signature=\"(n)->()\"),\n",
    "                np.vstack(callback.x_steps),\n",
    "                ax=ax,\n",
    "                xlim=(test_input[\"low\"], test_input[\"high\"]),\n",
    "                ylim=(test_input[\"low\"], test_input[\"high\"]),\n",
    "                title=key\n",
    "            )\n",
    "            # Проверяем, что найденная точка достаточно близко к истинной\n",
    "        if np.linalg.norm(answer - res_point, ord=1) > tol:\n",
    "            debug_log.append(\n",
    "                f\"Тест '{key}':\\n\"\n",
    "                f\"\\t- ответ: {answer}\\n\"\n",
    "                f\"\\t- вывод алгоритма: {res_point}\"\n",
    "            )\n",
    "            right_flag = False\n",
    "    return right_flag, debug_log\n"
   ]
  },
  {
   "cell_type": "code",
   "execution_count": null,
   "metadata": {
    "colab": {
     "base_uri": "https://localhost:8080/",
     "height": 231
    },
    "id": "vR_-Ucs4giUQ",
    "outputId": "5d3517c1-cce3-49b3-8499-e8fe5a299388"
   },
   "outputs": [],
   "source": [
    "test_cases = {\n",
    "    \"concentric_circles\": {\n",
    "        \"func\": lambda x: (\n",
    "                -1 / ((x[0] - 1) ** 2 + (x[1] - 1.5) ** 2 + 1)\n",
    "                * np.cos(2 * (x[0] - 1) ** 2 + 2 * (x[1] - 1.5) ** 2)\n",
    "        ),\n",
    "        \"low\": -5,\n",
    "        \"high\": 5,\n",
    "        \"start\": np.array([.2, .7]),\n",
    "        \"answer\": np.array([1, 1.5])\n",
    "    },\n",
    "    \"other concentric circles\": {\n",
    "        \"func\": lambda x: (\n",
    "                -1 / ((x[0]) ** 2 + (x[1] - 3) ** 2 + 1)\n",
    "                * np.cos(2 * (x[0]) ** 2 + 2 * (x[1] - 3) ** 2)\n",
    "        ),\n",
    "        \"low\": -5,\n",
    "        \"high\": 5,\n",
    "        \"start\": np.array([1.1, 3.3]),\n",
    "        \"answer\": np.array([0, 3])\n",
    "    },\n",
    "    \"straightened ellipses\": {\n",
    "        \"func\": lambda x: (\n",
    "                -1 / ((x[0]) ** 4 + (x[1] - 3) ** 6 + 1)\n",
    "                * np.cos(2 * (x[0]) ** 4 + 2 * (x[1] - 3) ** 6)\n",
    "        ),\n",
    "        \"low\": -5,\n",
    "        \"high\": 5,\n",
    "        \"start\": np.array([.8, 3.001]),\n",
    "        # точка так близко к ответу тк в окрестности ответа градиент маленкьий и функция очень плохо сходится\n",
    "        \"answer\": np.array([0, 3])\n",
    "    },\n",
    "}\n",
    "tol = 1e-2  # желаемая точность\n",
    "\n",
    "fig, axes = plt.subplots(1, 3, figsize=(6, 18), squeeze=False)\n",
    "fig.suptitle(\"Градиентный спуск в 2D\", fontsize=25, fontweight=\"bold\")\n",
    "is_correct, debug_log = test_convergence_2d(grad_descent_2d, test_cases, tol, axes)\n",
    "\n",
    "if not is_correct:\n",
    "    print(\"Не сошлось. Дебажный вывод:\")\n",
    "    for log_entry in debug_log:\n",
    "        print(log_entry)"
   ]
  },
  {
   "cell_type": "code",
   "execution_count": null,
   "metadata": {
    "id": "6C0vjkL1P0dP"
   },
   "outputs": [],
   "source": []
  }
 ],
 "metadata": {
  "colab": {
   "collapsed_sections": [],
   "name": "[homework]gradient.ipynb",
   "provenance": []
  },
  "interpreter": {
   "hash": "5eb2e0c23f8e38f19a3cfe8ad2d7bbb895a86b1e106b247f2b169180d03d2047"
  },
  "kernelspec": {
   "display_name": "Python 3.9.7 ('base')",
   "language": "python",
   "name": "python3"
  },
  "language_info": {
   "codemirror_mode": {
    "name": "ipython",
    "version": 3
   },
   "file_extension": ".py",
   "mimetype": "text/x-python",
   "name": "python",
   "nbconvert_exporter": "python",
   "pygments_lexer": "ipython3",
   "version": "3.9.7"
  }
 },
 "nbformat": 4,
 "nbformat_minor": 0
}
