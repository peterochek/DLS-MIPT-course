{
 "nbformat": 4,
 "nbformat_minor": 0,
 "metadata": {
  "colab": {
   "name": "[homework]pandas.ipynb",
   "provenance": [],
   "collapsed_sections": []
  },
  "kernelspec": {
   "display_name": "Python 3",
   "language": "python",
   "name": "python3"
  }
 },
 "cells": [
  {
   "cell_type": "code",
   "metadata": {
    "id": "fNjo9Tk7YNEI"
   },
   "source": [
    "import pandas as pd\n",
    "import numpy as np"
   ],
   "execution_count": 1,
   "outputs": []
  },
  {
   "cell_type": "markdown",
   "metadata": {
    "id": "fZaQFimMYNEK"
   },
   "source": []
  },
  {
   "cell_type": "markdown",
   "metadata": {
    "id": "1xPaEni5YNEL"
   },
   "source": [
    "### Данные для задания: https://drive.google.com/file/d/1JY8l5nSu9O4GtMDpaOfH2Oowlpza3U-c/view?usp=sharing"
   ]
  },
  {
   "cell_type": "code",
   "metadata": {
    "id": "my6fQWvBYNEM"
   },
   "source": [
    "data = pd.read_csv('BlackFriday.csv')"
   ],
   "execution_count": 2,
   "outputs": []
  },
  {
   "cell_type": "markdown",
   "metadata": {
    "id": "Tvo9H9BpYNEN"
   },
   "source": [
    "Посмотрим, что же такое переменная `data`:"
   ]
  },
  {
   "cell_type": "code",
   "metadata": {
    "id": "45ckp1neYNEO",
    "colab": {
     "base_uri": "https://localhost:8080/",
     "height": 419
    },
    "executionInfo": {
     "status": "ok",
     "timestamp": 1633021753185,
     "user_tz": -180,
     "elapsed": 485,
     "user": {
      "displayName": "Yury Yarovikov",
      "photoUrl": "https://lh3.googleusercontent.com/a-/AOh14Gip8__BUAkkFW7zB1tjXwB7Y8uEezomM5ErVG2V=s64",
      "userId": "05223355485824927663"
     }
    },
    "outputId": "720c4313-246c-4efb-9efb-8e7a92798eec"
   },
   "source": [
    "data"
   ],
   "execution_count": 3,
   "outputs": [
    {
     "data": {
      "text/plain": "        User_ID Product_ID Gender    Age  Occupation City_Category  \\\n0       1000001  P00069042      F   0-17          10             A   \n1       1000001  P00248942      F   0-17          10             A   \n2       1000001  P00087842      F   0-17          10             A   \n3       1000001  P00085442      F   0-17          10             A   \n4       1000002  P00285442      M    55+          16             C   \n...         ...        ...    ...    ...         ...           ...   \n537572  1004737  P00193542      M  36-45          16             C   \n537573  1004737  P00111142      M  36-45          16             C   \n537574  1004737  P00345942      M  36-45          16             C   \n537575  1004737  P00285842      M  36-45          16             C   \n537576  1004737  P00118242      M  36-45          16             C   \n\n       Stay_In_Current_City_Years  Marital_Status  Product_Category_1  \\\n0                               2               0                   3   \n1                               2               0                   1   \n2                               2               0                  12   \n3                               2               0                  12   \n4                              4+               0                   8   \n...                           ...             ...                 ...   \n537572                          1               0                   1   \n537573                          1               0                   1   \n537574                          1               0                   8   \n537575                          1               0                   5   \n537576                          1               0                   5   \n\n        Product_Category_2  Product_Category_3  Purchase  \n0                      NaN                 NaN      8370  \n1                      6.0                14.0     15200  \n2                      NaN                 NaN      1422  \n3                     14.0                 NaN      1057  \n4                      NaN                 NaN      7969  \n...                    ...                 ...       ...  \n537572                 2.0                 NaN     11664  \n537573                15.0                16.0     19196  \n537574                15.0                 NaN      8043  \n537575                 NaN                 NaN      7172  \n537576                 8.0                 NaN      6875  \n\n[537577 rows x 12 columns]",
      "text/html": "<div>\n<style scoped>\n    .dataframe tbody tr th:only-of-type {\n        vertical-align: middle;\n    }\n\n    .dataframe tbody tr th {\n        vertical-align: top;\n    }\n\n    .dataframe thead th {\n        text-align: right;\n    }\n</style>\n<table border=\"1\" class=\"dataframe\">\n  <thead>\n    <tr style=\"text-align: right;\">\n      <th></th>\n      <th>User_ID</th>\n      <th>Product_ID</th>\n      <th>Gender</th>\n      <th>Age</th>\n      <th>Occupation</th>\n      <th>City_Category</th>\n      <th>Stay_In_Current_City_Years</th>\n      <th>Marital_Status</th>\n      <th>Product_Category_1</th>\n      <th>Product_Category_2</th>\n      <th>Product_Category_3</th>\n      <th>Purchase</th>\n    </tr>\n  </thead>\n  <tbody>\n    <tr>\n      <th>0</th>\n      <td>1000001</td>\n      <td>P00069042</td>\n      <td>F</td>\n      <td>0-17</td>\n      <td>10</td>\n      <td>A</td>\n      <td>2</td>\n      <td>0</td>\n      <td>3</td>\n      <td>NaN</td>\n      <td>NaN</td>\n      <td>8370</td>\n    </tr>\n    <tr>\n      <th>1</th>\n      <td>1000001</td>\n      <td>P00248942</td>\n      <td>F</td>\n      <td>0-17</td>\n      <td>10</td>\n      <td>A</td>\n      <td>2</td>\n      <td>0</td>\n      <td>1</td>\n      <td>6.0</td>\n      <td>14.0</td>\n      <td>15200</td>\n    </tr>\n    <tr>\n      <th>2</th>\n      <td>1000001</td>\n      <td>P00087842</td>\n      <td>F</td>\n      <td>0-17</td>\n      <td>10</td>\n      <td>A</td>\n      <td>2</td>\n      <td>0</td>\n      <td>12</td>\n      <td>NaN</td>\n      <td>NaN</td>\n      <td>1422</td>\n    </tr>\n    <tr>\n      <th>3</th>\n      <td>1000001</td>\n      <td>P00085442</td>\n      <td>F</td>\n      <td>0-17</td>\n      <td>10</td>\n      <td>A</td>\n      <td>2</td>\n      <td>0</td>\n      <td>12</td>\n      <td>14.0</td>\n      <td>NaN</td>\n      <td>1057</td>\n    </tr>\n    <tr>\n      <th>4</th>\n      <td>1000002</td>\n      <td>P00285442</td>\n      <td>M</td>\n      <td>55+</td>\n      <td>16</td>\n      <td>C</td>\n      <td>4+</td>\n      <td>0</td>\n      <td>8</td>\n      <td>NaN</td>\n      <td>NaN</td>\n      <td>7969</td>\n    </tr>\n    <tr>\n      <th>...</th>\n      <td>...</td>\n      <td>...</td>\n      <td>...</td>\n      <td>...</td>\n      <td>...</td>\n      <td>...</td>\n      <td>...</td>\n      <td>...</td>\n      <td>...</td>\n      <td>...</td>\n      <td>...</td>\n      <td>...</td>\n    </tr>\n    <tr>\n      <th>537572</th>\n      <td>1004737</td>\n      <td>P00193542</td>\n      <td>M</td>\n      <td>36-45</td>\n      <td>16</td>\n      <td>C</td>\n      <td>1</td>\n      <td>0</td>\n      <td>1</td>\n      <td>2.0</td>\n      <td>NaN</td>\n      <td>11664</td>\n    </tr>\n    <tr>\n      <th>537573</th>\n      <td>1004737</td>\n      <td>P00111142</td>\n      <td>M</td>\n      <td>36-45</td>\n      <td>16</td>\n      <td>C</td>\n      <td>1</td>\n      <td>0</td>\n      <td>1</td>\n      <td>15.0</td>\n      <td>16.0</td>\n      <td>19196</td>\n    </tr>\n    <tr>\n      <th>537574</th>\n      <td>1004737</td>\n      <td>P00345942</td>\n      <td>M</td>\n      <td>36-45</td>\n      <td>16</td>\n      <td>C</td>\n      <td>1</td>\n      <td>0</td>\n      <td>8</td>\n      <td>15.0</td>\n      <td>NaN</td>\n      <td>8043</td>\n    </tr>\n    <tr>\n      <th>537575</th>\n      <td>1004737</td>\n      <td>P00285842</td>\n      <td>M</td>\n      <td>36-45</td>\n      <td>16</td>\n      <td>C</td>\n      <td>1</td>\n      <td>0</td>\n      <td>5</td>\n      <td>NaN</td>\n      <td>NaN</td>\n      <td>7172</td>\n    </tr>\n    <tr>\n      <th>537576</th>\n      <td>1004737</td>\n      <td>P00118242</td>\n      <td>M</td>\n      <td>36-45</td>\n      <td>16</td>\n      <td>C</td>\n      <td>1</td>\n      <td>0</td>\n      <td>5</td>\n      <td>8.0</td>\n      <td>NaN</td>\n      <td>6875</td>\n    </tr>\n  </tbody>\n</table>\n<p>537577 rows × 12 columns</p>\n</div>"
     },
     "execution_count": 3,
     "metadata": {},
     "output_type": "execute_result"
    }
   ]
  },
  {
   "cell_type": "code",
   "metadata": {
    "id": "f0SspKW5YNEU",
    "outputId": "ad512ef5-8238-42ac-af99-944e7b74c402"
   },
   "source": [
    "type(data)"
   ],
   "execution_count": 4,
   "outputs": [
    {
     "data": {
      "text/plain": "pandas.core.frame.DataFrame"
     },
     "execution_count": 4,
     "metadata": {},
     "output_type": "execute_result"
    }
   ]
  },
  {
   "cell_type": "markdown",
   "metadata": {
    "id": "8Euq1CYeYNEX"
   },
   "source": [
    "---"
   ]
  },
  {
   "cell_type": "markdown",
   "metadata": {
    "id": "kwm98nkcYNEY"
   },
   "source": [
    "#### Вопрос"
   ]
  },
  {
   "cell_type": "markdown",
   "metadata": {
    "id": "sd8GKDI2YNEZ"
   },
   "source": [
    "О чём данные? (Hint: https://www.kaggle.com/sdolezel/black-friday)"
   ]
  },
  {
   "cell_type": "markdown",
   "metadata": {
    "id": "S-CQd-BfYNEa"
   },
   "source": [
    "---"
   ]
  },
  {
   "cell_type": "markdown",
   "metadata": {
    "id": "3q3tNGOrYNEa"
   },
   "source": [
    "#### Основное задание (в тесте надо будет вставлять ответы для этих пунктов):"
   ]
  },
  {
   "cell_type": "markdown",
   "metadata": {
    "id": "--kzTfO2YNEb"
   },
   "source": [
    "*Примечание:* не бойтесь гуглить и заглядывать в \"Полезные ссылки\" для того, чтобы выполнить какие-то задания. Возможно, на семинаре не было какого-то нужного метода, но он находится в поисковике за 2 минуты."
   ]
  },
  {
   "cell_type": "markdown",
   "metadata": {
    "id": "WXRRMZe7YNEb"
   },
   "source": [
    "**0).** Сколько всего возрастных категорий?  "
   ]
  },
  {
   "cell_type": "code",
   "metadata": {
    "id": "bj7ljslWYNEd"
   },
   "source": [
    "data['Age'].unique()"
   ],
   "execution_count": 5,
   "outputs": [
    {
     "data": {
      "text/plain": "array(['0-17', '55+', '26-35', '46-50', '51-55', '36-45', '18-25'],\n      dtype=object)"
     },
     "execution_count": 5,
     "metadata": {},
     "output_type": "execute_result"
    }
   ]
  },
  {
   "cell_type": "markdown",
   "metadata": {
    "id": "H4UpHEFbYNEf"
   },
   "source": [
    "**1).** Сколько строк с мужчинами из категории города A? (речь не об уникальных ID мужчин, а о количестве строк)  "
   ]
  },
  {
   "cell_type": "code",
   "metadata": {
    "id": "QvbBZrkpYNEg"
   },
   "source": [
    "len(data[data['City_Category'] == 'A'][data['Gender'] == 'M'])"
   ],
   "execution_count": 17,
   "outputs": [
    {
     "name": "stderr",
     "output_type": "stream",
     "text": [
      "C:\\Users\\peter\\AppData\\Local\\Temp/ipykernel_22368/3313701621.py:1: UserWarning: Boolean Series key will be reindexed to match DataFrame index.\n",
      "  len(data[data['City_Category'] == 'A'][data['Gender'] == 'M'])\n"
     ]
    },
    {
     "data": {
      "text/plain": "109831"
     },
     "execution_count": 17,
     "metadata": {},
     "output_type": "execute_result"
    }
   ]
  },
  {
   "cell_type": "markdown",
   "metadata": {
    "id": "PDC06O38YNEi"
   },
   "source": [
    "**2).** Сколько женщин от 46 до 50, потративших (столбец Purchase) больше 20000 (условных единиц, в данном случае)?   (речь не об уникальных ID, а о количестве строк)  "
   ]
  },
  {
   "cell_type": "code",
   "metadata": {
    "id": "T2_v92xoYNEi"
   },
   "source": [
    "len(data[data['Gender'] == 'F'][data['Age'] == '46-50'][data['Purchase'] > 20000])"
   ],
   "execution_count": 22,
   "outputs": [
    {
     "name": "stderr",
     "output_type": "stream",
     "text": [
      "C:\\Users\\peter\\AppData\\Local\\Temp/ipykernel_22368/3385241999.py:1: UserWarning: Boolean Series key will be reindexed to match DataFrame index.\n",
      "  len(data[data['Gender'] == 'F'][data['Age'] == '46-50'][data['Purchase'] > 20000])\n"
     ]
    },
    {
     "data": {
      "text/plain": "270"
     },
     "execution_count": 22,
     "metadata": {},
     "output_type": "execute_result"
    }
   ]
  },
  {
   "cell_type": "markdown",
   "metadata": {
    "id": "oQNZ-8egYNEm"
   },
   "source": [
    "**3).** Сколько NaN'ов в столбце Product_Category_3?  "
   ]
  },
  {
   "cell_type": "code",
   "metadata": {
    "id": "nwxjErPQYNEn"
   },
   "source": [
    "data['Product_Category_3'].isna().astype(int).sum()"
   ],
   "execution_count": 26,
   "outputs": [
    {
     "data": {
      "text/plain": "373299"
     },
     "execution_count": 26,
     "metadata": {},
     "output_type": "execute_result"
    }
   ]
  },
  {
   "cell_type": "markdown",
   "metadata": {
    "id": "DxR8KgxBYNEs"
   },
   "source": [
    "**4).** Какую долю (вещественное число от 0 до 1, округлить до 4-го знака) от всех покупателей составляют ВМЕСТЕ мужчины от 26 до 35 лет и женщины старше 36 лет (то есть нужно учесть несколько возрастных категорий)? (речь не об уникальных ID, а о количестве таких строк)  "
   ]
  },
  {
   "cell_type": "code",
   "metadata": {
    "id": "ICK0SOJJYNEt"
   },
   "source": [
    "females = len(data[data['Gender'] == 'F'][(data['Age'] == '36-45') | (data['Age'] == '46-50') | (data['Age'] == '51-55') | (data['Age'] == '55+')])\n",
    "males = len(data[data['Gender'] == 'M'][data['Age'] == '26-35'])\n",
    "\n",
    "(males + females)/len(data)"
   ],
   "execution_count": 31,
   "outputs": [
    {
     "name": "stderr",
     "output_type": "stream",
     "text": [
      "C:\\Users\\peter\\AppData\\Local\\Temp/ipykernel_22368/2234663408.py:1: UserWarning: Boolean Series key will be reindexed to match DataFrame index.\n",
      "  females = len(data[data['Gender'] == 'F'][(data['Age'] == '36-45') | (data['Age'] == '46-50') | (data['Age'] == '51-55') | (data['Age'] == '55+')])\n",
      "C:\\Users\\peter\\AppData\\Local\\Temp/ipykernel_22368/2234663408.py:2: UserWarning: Boolean Series key will be reindexed to match DataFrame index.\n",
      "  males = len(data[data['Gender'] == 'M'][data['Age'] == '26-35'])\n"
     ]
    },
    {
     "data": {
      "text/plain": "0.4077201963625676"
     },
     "execution_count": 31,
     "metadata": {},
     "output_type": "execute_result"
    }
   ]
  },
  {
   "cell_type": "markdown",
   "metadata": {
    "id": "Vv1xTr2YYNEw"
   },
   "source": [
    "---"
   ]
  },
  {
   "cell_type": "markdown",
   "metadata": {
    "id": "ElI6jhXnYNEx"
   },
   "source": [
    "Больше про pandas можно найти по этом полезным ссылкам:"
   ]
  },
  {
   "cell_type": "markdown",
   "metadata": {
    "id": "itKnSrTFYNEx"
   },
   "source": [
    "* Официальные туториалы: http://pandas.pydata.org/pandas-docs/stable/tutorials.html"
   ]
  },
  {
   "cell_type": "markdown",
   "metadata": {
    "id": "5anYf9hGYNEy"
   },
   "source": [
    "* Статья на Хабре от [OpenDataScience сообщества](http://ods.ai/)**:** https://habr.com/company/ods/blog/322626/"
   ]
  },
  {
   "cell_type": "markdown",
   "metadata": {
    "id": "RtVuI14DYNEz"
   },
   "source": [
    "* Подробный гайд: https://media.readthedocs.org/pdf/pandasguide/latest/pandasguide.pdf"
   ]
  },
  {
   "cell_type": "markdown",
   "metadata": {
    "id": "MySaKecMYNE0"
   },
   "source": [
    "Главное в работе с новыми библиотеками -- не бояться тыкать в разные функции, смотреть типы возвращаемых объектов и активно пользоваться Яндексом, а ещё лучше понимать всё из docstring'а (`Shift+Tab` при нахождении курсора внутри скобок функции)."
   ]
  }
 ]
}